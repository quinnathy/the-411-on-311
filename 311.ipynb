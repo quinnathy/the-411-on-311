{
 "cells": [
  {
   "cell_type": "code",
   "execution_count": 1,
   "id": "bd535013-a75b-4b2f-81fb-d8182559d05a",
   "metadata": {},
   "outputs": [],
   "source": [
    "import pandas as pd\n",
    "\n",
    "# longest complaint type\n",
    "# response time by zip code, mapped out\n"
   ]
  },
  {
   "cell_type": "code",
   "execution_count": 2,
   "id": "7db9e32d-faea-48a9-adf6-eb6677332f77",
   "metadata": {},
   "outputs": [
    {
     "name": "stderr",
     "output_type": "stream",
     "text": [
      "/var/folders/8s/_9tbmrdn6qq_wjv2ch0nw_n00000gn/T/ipykernel_32371/4115982815.py:1: DtypeWarning: Columns (8,20,31,32) have mixed types. Specify dtype option on import or set low_memory=False.\n",
      "  df = pd.read_csv(\"311_requests.csv\")\n"
     ]
    }
   ],
   "source": [
    "df = pd.read_csv(\"311_requests.csv\")"
   ]
  },
  {
   "cell_type": "code",
   "execution_count": 3,
   "id": "7c5326de-62d8-492a-a960-058d661fb3ce",
   "metadata": {},
   "outputs": [
    {
     "data": {
      "text/plain": [
       "(16398779, 41)"
      ]
     },
     "execution_count": 3,
     "metadata": {},
     "output_type": "execute_result"
    }
   ],
   "source": [
    "df.shape"
   ]
  },
  {
   "cell_type": "code",
   "execution_count": 4,
   "id": "31c1b685-caf3-43b6-9843-9a67f30504f0",
   "metadata": {},
   "outputs": [
    {
     "data": {
      "text/html": [
       "<div>\n",
       "<style scoped>\n",
       "    .dataframe tbody tr th:only-of-type {\n",
       "        vertical-align: middle;\n",
       "    }\n",
       "\n",
       "    .dataframe tbody tr th {\n",
       "        vertical-align: top;\n",
       "    }\n",
       "\n",
       "    .dataframe thead th {\n",
       "        text-align: right;\n",
       "    }\n",
       "</style>\n",
       "<table border=\"1\" class=\"dataframe\">\n",
       "  <thead>\n",
       "    <tr style=\"text-align: right;\">\n",
       "      <th></th>\n",
       "      <th>Unique Key</th>\n",
       "      <th>Created Date</th>\n",
       "      <th>Closed Date</th>\n",
       "      <th>Agency</th>\n",
       "      <th>Agency Name</th>\n",
       "      <th>Complaint Type</th>\n",
       "      <th>Descriptor</th>\n",
       "      <th>Location Type</th>\n",
       "      <th>Incident Zip</th>\n",
       "      <th>Incident Address</th>\n",
       "      <th>...</th>\n",
       "      <th>Vehicle Type</th>\n",
       "      <th>Taxi Company Borough</th>\n",
       "      <th>Taxi Pick Up Location</th>\n",
       "      <th>Bridge Highway Name</th>\n",
       "      <th>Bridge Highway Direction</th>\n",
       "      <th>Road Ramp</th>\n",
       "      <th>Bridge Highway Segment</th>\n",
       "      <th>Latitude</th>\n",
       "      <th>Longitude</th>\n",
       "      <th>Location</th>\n",
       "    </tr>\n",
       "  </thead>\n",
       "  <tbody>\n",
       "    <tr>\n",
       "      <th>0</th>\n",
       "      <td>66477523</td>\n",
       "      <td>10/15/2025 02:53:01 AM</td>\n",
       "      <td>NaN</td>\n",
       "      <td>DOT</td>\n",
       "      <td>Department of Transportation</td>\n",
       "      <td>Street Condition</td>\n",
       "      <td>Pothole</td>\n",
       "      <td>NaN</td>\n",
       "      <td>10025</td>\n",
       "      <td>NaN</td>\n",
       "      <td>...</td>\n",
       "      <td>NaN</td>\n",
       "      <td>NaN</td>\n",
       "      <td>NaN</td>\n",
       "      <td>NaN</td>\n",
       "      <td>NaN</td>\n",
       "      <td>NaN</td>\n",
       "      <td>NaN</td>\n",
       "      <td>40.799915</td>\n",
       "      <td>-73.962375</td>\n",
       "      <td>(40.799915496037656, -73.962375199232)</td>\n",
       "    </tr>\n",
       "    <tr>\n",
       "      <th>1</th>\n",
       "      <td>66485373</td>\n",
       "      <td>10/15/2025 01:51:19 AM</td>\n",
       "      <td>NaN</td>\n",
       "      <td>NYPD</td>\n",
       "      <td>New York City Police Department</td>\n",
       "      <td>Noise - Residential</td>\n",
       "      <td>Loud Music/Party</td>\n",
       "      <td>Residential Building/House</td>\n",
       "      <td>11217</td>\n",
       "      <td>32 5 AVENUE</td>\n",
       "      <td>...</td>\n",
       "      <td>NaN</td>\n",
       "      <td>NaN</td>\n",
       "      <td>NaN</td>\n",
       "      <td>NaN</td>\n",
       "      <td>NaN</td>\n",
       "      <td>NaN</td>\n",
       "      <td>NaN</td>\n",
       "      <td>40.682027</td>\n",
       "      <td>-73.976669</td>\n",
       "      <td>(40.682026738300806, -73.97666893868067)</td>\n",
       "    </tr>\n",
       "    <tr>\n",
       "      <th>2</th>\n",
       "      <td>66477728</td>\n",
       "      <td>10/15/2025 01:50:51 AM</td>\n",
       "      <td>NaN</td>\n",
       "      <td>NYPD</td>\n",
       "      <td>New York City Police Department</td>\n",
       "      <td>Noise - Street/Sidewalk</td>\n",
       "      <td>Loud Talking</td>\n",
       "      <td>Street/Sidewalk</td>\n",
       "      <td>11373</td>\n",
       "      <td>41-22 WARREN STREET</td>\n",
       "      <td>...</td>\n",
       "      <td>NaN</td>\n",
       "      <td>NaN</td>\n",
       "      <td>NaN</td>\n",
       "      <td>NaN</td>\n",
       "      <td>NaN</td>\n",
       "      <td>NaN</td>\n",
       "      <td>NaN</td>\n",
       "      <td>40.747080</td>\n",
       "      <td>-73.869213</td>\n",
       "      <td>(40.74707979245236, -73.86921337706241)</td>\n",
       "    </tr>\n",
       "    <tr>\n",
       "      <th>3</th>\n",
       "      <td>66480783</td>\n",
       "      <td>10/15/2025 01:50:50 AM</td>\n",
       "      <td>NaN</td>\n",
       "      <td>NYPD</td>\n",
       "      <td>New York City Police Department</td>\n",
       "      <td>Noise - Residential</td>\n",
       "      <td>Loud Television</td>\n",
       "      <td>Residential Building/House</td>\n",
       "      <td>10472</td>\n",
       "      <td>1150 COMMONWEALTH AVENUE</td>\n",
       "      <td>...</td>\n",
       "      <td>NaN</td>\n",
       "      <td>NaN</td>\n",
       "      <td>NaN</td>\n",
       "      <td>NaN</td>\n",
       "      <td>NaN</td>\n",
       "      <td>NaN</td>\n",
       "      <td>NaN</td>\n",
       "      <td>40.829030</td>\n",
       "      <td>-73.867600</td>\n",
       "      <td>(40.829030246155156, -73.86759968856889)</td>\n",
       "    </tr>\n",
       "    <tr>\n",
       "      <th>4</th>\n",
       "      <td>66483707</td>\n",
       "      <td>10/15/2025 01:49:39 AM</td>\n",
       "      <td>NaN</td>\n",
       "      <td>NYPD</td>\n",
       "      <td>New York City Police Department</td>\n",
       "      <td>Blocked Driveway</td>\n",
       "      <td>Partial Access</td>\n",
       "      <td>Street/Sidewalk</td>\n",
       "      <td>11423</td>\n",
       "      <td>190-20 WOODHULL AVENUE</td>\n",
       "      <td>...</td>\n",
       "      <td>NaN</td>\n",
       "      <td>NaN</td>\n",
       "      <td>NaN</td>\n",
       "      <td>NaN</td>\n",
       "      <td>NaN</td>\n",
       "      <td>NaN</td>\n",
       "      <td>NaN</td>\n",
       "      <td>40.710419</td>\n",
       "      <td>-73.768660</td>\n",
       "      <td>(40.710419086029134, -73.76866017022067)</td>\n",
       "    </tr>\n",
       "  </tbody>\n",
       "</table>\n",
       "<p>5 rows × 41 columns</p>\n",
       "</div>"
      ],
      "text/plain": [
       "   Unique Key            Created Date Closed Date Agency  \\\n",
       "0    66477523  10/15/2025 02:53:01 AM         NaN    DOT   \n",
       "1    66485373  10/15/2025 01:51:19 AM         NaN   NYPD   \n",
       "2    66477728  10/15/2025 01:50:51 AM         NaN   NYPD   \n",
       "3    66480783  10/15/2025 01:50:50 AM         NaN   NYPD   \n",
       "4    66483707  10/15/2025 01:49:39 AM         NaN   NYPD   \n",
       "\n",
       "                       Agency Name           Complaint Type        Descriptor  \\\n",
       "0     Department of Transportation         Street Condition           Pothole   \n",
       "1  New York City Police Department      Noise - Residential  Loud Music/Party   \n",
       "2  New York City Police Department  Noise - Street/Sidewalk      Loud Talking   \n",
       "3  New York City Police Department      Noise - Residential   Loud Television   \n",
       "4  New York City Police Department         Blocked Driveway    Partial Access   \n",
       "\n",
       "                Location Type Incident Zip          Incident Address  ...  \\\n",
       "0                         NaN        10025                       NaN  ...   \n",
       "1  Residential Building/House        11217               32 5 AVENUE  ...   \n",
       "2             Street/Sidewalk        11373       41-22 WARREN STREET  ...   \n",
       "3  Residential Building/House        10472  1150 COMMONWEALTH AVENUE  ...   \n",
       "4             Street/Sidewalk        11423    190-20 WOODHULL AVENUE  ...   \n",
       "\n",
       "  Vehicle Type Taxi Company Borough Taxi Pick Up Location Bridge Highway Name  \\\n",
       "0          NaN                  NaN                   NaN                 NaN   \n",
       "1          NaN                  NaN                   NaN                 NaN   \n",
       "2          NaN                  NaN                   NaN                 NaN   \n",
       "3          NaN                  NaN                   NaN                 NaN   \n",
       "4          NaN                  NaN                   NaN                 NaN   \n",
       "\n",
       "  Bridge Highway Direction Road Ramp Bridge Highway Segment   Latitude  \\\n",
       "0                      NaN       NaN                    NaN  40.799915   \n",
       "1                      NaN       NaN                    NaN  40.682027   \n",
       "2                      NaN       NaN                    NaN  40.747080   \n",
       "3                      NaN       NaN                    NaN  40.829030   \n",
       "4                      NaN       NaN                    NaN  40.710419   \n",
       "\n",
       "   Longitude                                  Location  \n",
       "0 -73.962375    (40.799915496037656, -73.962375199232)  \n",
       "1 -73.976669  (40.682026738300806, -73.97666893868067)  \n",
       "2 -73.869213   (40.74707979245236, -73.86921337706241)  \n",
       "3 -73.867600  (40.829030246155156, -73.86759968856889)  \n",
       "4 -73.768660  (40.710419086029134, -73.76866017022067)  \n",
       "\n",
       "[5 rows x 41 columns]"
      ]
     },
     "execution_count": 4,
     "metadata": {},
     "output_type": "execute_result"
    }
   ],
   "source": [
    "df = df[pd.to_numeric(df['Incident Zip'], errors='coerce').notna()]\n",
    "df['Incident Zip'] = df['Incident Zip'].astype(float).astype(int).astype(str)\n",
    "df.head()"
   ]
  },
  {
   "cell_type": "code",
   "execution_count": 5,
   "id": "6b6c9569-8e5d-4f15-9724-46cbf906b9d3",
   "metadata": {},
   "outputs": [],
   "source": [
    "nyc_zips = [\n",
    "    \"10001\",\"10002\",\"10003\",\"10004\",\"10005\",\"10006\",\"10007\",\"10009\",\"10010\",\"10011\",\n",
    "    \"10012\",\"10013\",\"10014\",\"10016\",\"10017\",\"10018\",\"10019\",\"10020\",\"10021\",\"10022\",\n",
    "    \"10023\",\"10024\",\"10025\",\"10026\",\"10027\",\"10028\",\"10029\",\"10030\",\"10031\",\"10032\",\n",
    "    \"10033\",\"10034\",\"10035\",\"10036\",\"10037\",\"10038\",\"10039\",\"10040\",\"10041\",\"10044\",\n",
    "    \"10048\",\"10069\",\"10103\",\"10111\",\"10112\",\"10115\",\"10119\",\"10128\",\"10152\",\"10153\",\n",
    "    \"10154\",\"10162\",\"10165\",\"10167\",\"10169\",\"10170\",\"10171\",\"10172\",\"10173\",\"10177\",\n",
    "    \"10271\",\"10278\",\"10279\",\"10280\",\"10282\",\n",
    "    \"10301\",\"10302\",\"10303\",\"10304\",\"10305\",\"10306\",\"10307\",\"10308\",\"10309\",\"10310\",\n",
    "    \"10312\",\"10314\",\n",
    "    \"10451\",\"10452\",\"10453\",\"10454\",\"10455\",\"10456\",\"10457\",\"10458\",\"10459\",\"10460\",\n",
    "    \"10461\",\"10462\",\"10463\",\"10464\",\"10465\",\"10466\",\"10467\",\"10468\",\"10469\",\"10470\",\n",
    "    \"10471\",\"10472\",\"10473\",\"10474\",\"10475\",\n",
    "    \"11001\",\"11004\",\"11005\",\"11040\",\n",
    "    \"11101\",\"11102\",\"11103\",\"11104\",\"11105\",\"11106\",\n",
    "    \"11201\",\"11203\",\"11204\",\"11205\",\"11206\",\"11207\",\"11208\",\"11209\",\"11210\",\"11211\",\n",
    "    \"11212\",\"11213\",\"11214\",\"11215\",\"11216\",\"11217\",\"11218\",\"11219\",\"11220\",\"11221\",\n",
    "    \"11222\",\"11223\",\"11224\",\"11225\",\"11226\",\"11228\",\"11229\",\"11230\",\"11231\",\"11232\",\n",
    "    \"11233\",\"11234\",\"11235\",\"11236\",\"11237\",\"11238\",\"11239\",\n",
    "    \"11354\",\"11355\",\"11356\",\"11357\",\"11358\",\"11360\",\"11361\",\"11362\",\"11363\",\"11364\",\n",
    "    \"11365\",\"11366\",\"11367\",\"11368\",\"11369\",\"11370\",\"11371\",\"11372\",\"11373\",\"11374\",\n",
    "    \"11375\",\"11377\",\"11378\",\"11379\",\"11385\",\n",
    "    \"11411\",\"11412\",\"11413\",\"11414\",\"11415\",\"11416\",\"11417\",\"11418\",\"11419\",\"11420\",\n",
    "    \"11421\",\"11422\",\"11423\",\"11426\",\"11427\",\"11428\",\"11429\",\"11430\",\"11432\",\"11433\",\n",
    "    \"11434\",\"11435\",\"11436\",\n",
    "    \"11691\",\"11692\",\"11693\",\"11694\",\"11697\"\n",
    "]\n"
   ]
  },
  {
   "cell_type": "code",
   "execution_count": 6,
   "id": "d52f9c23-097c-450d-abaf-874b97085635",
   "metadata": {},
   "outputs": [],
   "source": [
    "df = df[df['Incident Zip'].isin(nyc_zips)]\n",
    "\n",
    "df = df.reset_index(drop=True)"
   ]
  },
  {
   "cell_type": "code",
   "execution_count": 7,
   "id": "61ecc68b-ca8b-4069-8fb6-583006596fb3",
   "metadata": {},
   "outputs": [
    {
     "data": {
      "text/plain": [
       "(16022232, 41)"
      ]
     },
     "execution_count": 7,
     "metadata": {},
     "output_type": "execute_result"
    }
   ],
   "source": [
    "df.shape"
   ]
  },
  {
   "cell_type": "code",
   "execution_count": 8,
   "id": "3eada83f-6265-41a6-acf7-dec379220656",
   "metadata": {},
   "outputs": [],
   "source": [
    "df['Created Date'] = pd.to_datetime(df['Created Date'], format='%m/%d/%Y %I:%M:%S %p',errors=\"coerce\")\n",
    "df['Closed Date'] = pd.to_datetime(df['Closed Date'], format='%m/%d/%Y %I:%M:%S %p',errors=\"coerce\")"
   ]
  },
  {
   "cell_type": "code",
   "execution_count": 9,
   "id": "586c300c-7d90-4584-8978-a75ef4cb78cb",
   "metadata": {},
   "outputs": [
    {
     "data": {
      "text/plain": [
       "41         0 days 00:06:03\n",
       "62         0 days 00:24:15\n",
       "64         0 days 00:15:49\n",
       "66         0 days 00:25:57\n",
       "74         0 days 00:18:54\n",
       "                 ...      \n",
       "16022227   0 days 00:29:30\n",
       "16022228   0 days 01:31:45\n",
       "16022229   0 days 08:49:45\n",
       "16022230   0 days 02:25:00\n",
       "16022231   0 days 00:43:32\n",
       "Name: Wait, Length: 15711861, dtype: timedelta64[ns]"
      ]
     },
     "execution_count": 9,
     "metadata": {},
     "output_type": "execute_result"
    }
   ],
   "source": [
    "df = df[df[\"Closed Date\"] >= df[\"Created Date\"]]\n",
    "df[\"Wait\"] = df['Closed Date'] - df['Created Date']\n",
    "df.loc[df['Wait'] < pd.Timedelta(0), 'Wait'] += pd.Timedelta(days=1)\n",
    "\n",
    "df[\"Wait\"]"
   ]
  },
  {
   "cell_type": "code",
   "execution_count": 10,
   "id": "342431dc-b356-4b1c-b6eb-0bdd0d7268b5",
   "metadata": {},
   "outputs": [],
   "source": [
    "df = df[df['Wait'] > pd.Timedelta(0)]"
   ]
  },
  {
   "cell_type": "code",
   "execution_count": 12,
   "id": "2cad14e1-e18e-48e2-84f0-7db161031891",
   "metadata": {},
   "outputs": [],
   "source": [
    "df = df[df[\"Wait\"] >= pd.Timedelta(\"1 minute\")]\n",
    "\n",
    "sorted_df = df[df[\"Incident Zip\"] == \"10466\"].sort_values(by=\"Agency\", ascending=False)\n",
    "\n",
    "by_agency = (\n",
    "    sorted_df.groupby('Agency')['Unique Key']\n",
    "      .nunique() / 1826.21\n",
    ").reset_index(name='count')"
   ]
  },
  {
   "cell_type": "code",
   "execution_count": 13,
   "id": "602dd4ca-e7eb-4f4c-b204-7a431a0893ab",
   "metadata": {},
   "outputs": [
    {
     "data": {
      "text/html": [
       "<div>\n",
       "<style scoped>\n",
       "    .dataframe tbody tr th:only-of-type {\n",
       "        vertical-align: middle;\n",
       "    }\n",
       "\n",
       "    .dataframe tbody tr th {\n",
       "        vertical-align: top;\n",
       "    }\n",
       "\n",
       "    .dataframe thead th {\n",
       "        text-align: right;\n",
       "    }\n",
       "</style>\n",
       "<table border=\"1\" class=\"dataframe\">\n",
       "  <thead>\n",
       "    <tr style=\"text-align: right;\">\n",
       "      <th></th>\n",
       "      <th>Incident Zip</th>\n",
       "      <th>avg_wait_hours</th>\n",
       "    </tr>\n",
       "  </thead>\n",
       "  <tbody>\n",
       "    <tr>\n",
       "      <th>0</th>\n",
       "      <td>10001</td>\n",
       "      <td>937.818316</td>\n",
       "    </tr>\n",
       "    <tr>\n",
       "      <th>1</th>\n",
       "      <td>10002</td>\n",
       "      <td>457.891895</td>\n",
       "    </tr>\n",
       "    <tr>\n",
       "      <th>2</th>\n",
       "      <td>10003</td>\n",
       "      <td>534.211290</td>\n",
       "    </tr>\n",
       "    <tr>\n",
       "      <th>3</th>\n",
       "      <td>10004</td>\n",
       "      <td>436.701704</td>\n",
       "    </tr>\n",
       "    <tr>\n",
       "      <th>4</th>\n",
       "      <td>10005</td>\n",
       "      <td>398.689911</td>\n",
       "    </tr>\n",
       "    <tr>\n",
       "      <th>...</th>\n",
       "      <td>...</td>\n",
       "      <td>...</td>\n",
       "    </tr>\n",
       "    <tr>\n",
       "      <th>197</th>\n",
       "      <td>11691</td>\n",
       "      <td>373.374943</td>\n",
       "    </tr>\n",
       "    <tr>\n",
       "      <th>198</th>\n",
       "      <td>11692</td>\n",
       "      <td>362.619420</td>\n",
       "    </tr>\n",
       "    <tr>\n",
       "      <th>199</th>\n",
       "      <td>11693</td>\n",
       "      <td>392.433022</td>\n",
       "    </tr>\n",
       "    <tr>\n",
       "      <th>200</th>\n",
       "      <td>11694</td>\n",
       "      <td>714.931394</td>\n",
       "    </tr>\n",
       "    <tr>\n",
       "      <th>201</th>\n",
       "      <td>11697</td>\n",
       "      <td>600.797336</td>\n",
       "    </tr>\n",
       "  </tbody>\n",
       "</table>\n",
       "<p>202 rows × 2 columns</p>\n",
       "</div>"
      ],
      "text/plain": [
       "    Incident Zip  avg_wait_hours\n",
       "0          10001      937.818316\n",
       "1          10002      457.891895\n",
       "2          10003      534.211290\n",
       "3          10004      436.701704\n",
       "4          10005      398.689911\n",
       "..           ...             ...\n",
       "197        11691      373.374943\n",
       "198        11692      362.619420\n",
       "199        11693      392.433022\n",
       "200        11694      714.931394\n",
       "201        11697      600.797336\n",
       "\n",
       "[202 rows x 2 columns]"
      ]
     },
     "execution_count": 13,
     "metadata": {},
     "output_type": "execute_result"
    }
   ],
   "source": [
    "zip_wait_avg_hours = (\n",
    "    df.groupby('Incident Zip')['Wait']\n",
    "      .mean()\n",
    "      .dt.total_seconds() / 3600\n",
    ").reset_index(name='avg_wait_hours')\n",
    "\n",
    "zip_wait_avg_hours"
   ]
  },
  {
   "cell_type": "code",
   "execution_count": 15,
   "id": "bdd5592e-43fc-4b6b-b6e4-b10190ac2185",
   "metadata": {},
   "outputs": [],
   "source": [
    "zip_total_complaints = (\n",
    "    df.groupby('Incident Zip')['Unique Key']\n",
    "      .nunique()\n",
    ").reset_index(name='total_count')\n"
   ]
  },
  {
   "cell_type": "code",
   "execution_count": 16,
   "id": "50b83310-4935-4563-8eba-d64ea0106851",
   "metadata": {},
   "outputs": [],
   "source": [
    "shrinkage = pd.merge(zip_wait_avg_hours, zip_total_complaints, on='Incident Zip', how='inner')\n",
    "shrinkage.rename(columns={'Incident Zip': 'zip'}, inplace=True)"
   ]
  },
  {
   "cell_type": "code",
   "execution_count": 17,
   "id": "444c8d60-10bb-48e2-a6c9-d70808f5f7cc",
   "metadata": {},
   "outputs": [
    {
     "name": "stdout",
     "output_type": "stream",
     "text": [
      "Global Weighted Mean Wait Time (µ): 486.04\n"
     ]
    }
   ],
   "source": [
    "## to calculate a more fair estimate of wait time by zip code\n",
    "total_weighted_wait_time = (shrinkage['avg_wait_hours'] * shrinkage['total_count']).sum()\n",
    "total_srs = shrinkage['total_count'].sum()\n",
    "mu = total_weighted_wait_time / total_srs\n",
    "\n",
    "print(f\"Global Weighted Mean Wait Time (µ): {mu:.2f}\")"
   ]
  },
  {
   "cell_type": "code",
   "execution_count": 22,
   "id": "bcf88b37-0b38-475c-bb97-f6362d8596ed",
   "metadata": {},
   "outputs": [
    {
     "name": "stdout",
     "output_type": "stream",
     "text": [
      "       zip  avg_wait_hours  total_count  Credibility_Factor_w  \\\n",
      "20   10023     3454.692419       107114              0.997207   \n",
      "49   10153     4487.382807          613              0.671413   \n",
      "151  11356     2231.900265        54264              0.994502   \n",
      "9    10011     2205.584568       108890              0.997252   \n",
      "157  11363     1873.718400        10611              0.972505   \n",
      "..     ...             ...          ...                   ...   \n",
      "94   10468      238.857841       219714              0.998636   \n",
      "148  11239      235.150711        55908              0.994663   \n",
      "61   10278      106.135362          765              0.718310   \n",
      "54   10169      120.487790         2646              0.898167   \n",
      "92   10466      138.135404       401319              0.999253   \n",
      "\n",
      "     EB_Shrunken_Wait_Time  \n",
      "20             3446.401183  \n",
      "49             3172.594299  \n",
      "151            2222.301314  \n",
      "9              2200.860120  \n",
      "157            1835.564006  \n",
      "..                     ...  \n",
      "94              239.194890  \n",
      "148             236.489804  \n",
      "61              213.151630  \n",
      "54              157.713383  \n",
      "92              138.395283  \n",
      "\n",
      "[202 rows x 5 columns]\n"
     ]
    }
   ],
   "source": [
    "k = 300\n",
    "\n",
    "shrinkage['Credibility_Factor_w'] = shrinkage['total_count'] / (shrinkage['total_count'] + k)\n",
    "\n",
    "shrinkage['EB_Shrunken_Wait_Time'] = (\n",
    "    shrinkage['Credibility_Factor_w'] * shrinkage['avg_wait_hours'] +\n",
    "    (1 - shrinkage['Credibility_Factor_w']) * mu\n",
    ")\n",
    "\n",
    "print(shrinkage.sort_values(by='EB_Shrunken_Wait_Time', ascending=False))"
   ]
  },
  {
   "cell_type": "code",
   "execution_count": 24,
   "id": "b3ecd13e-06a8-4b10-8e2b-ae962beca6d3",
   "metadata": {},
   "outputs": [],
   "source": [
    "zip_avg_complaints = (\n",
    "    df.groupby('Incident Zip')['Unique Key']\n",
    "      .nunique() / 1826.21\n",
    ").reset_index(name='avg_ccount')\n"
   ]
  },
  {
   "cell_type": "code",
   "execution_count": 25,
   "id": "c74b0578-dc3f-4939-8274-afead1907a6f",
   "metadata": {},
   "outputs": [
    {
     "data": {
      "text/plain": [
       "41.5024846404562"
      ]
     },
     "execution_count": 25,
     "metadata": {},
     "output_type": "execute_result"
    }
   ],
   "source": [
    "zip_avg_complaints['avg_ccount'].mean()"
   ]
  },
  {
   "cell_type": "code",
   "execution_count": 26,
   "id": "86a69e9e-7d56-43e6-8c74-6515df67a95a",
   "metadata": {},
   "outputs": [],
   "source": [
    "zip_wait_avg_hours.rename(columns={'Incident Zip': 'zip'}, inplace=True)\n",
    "zip_avg_complaints.rename(columns={'Incident Zip': 'zip'}, inplace=True)"
   ]
  },
  {
   "cell_type": "code",
   "execution_count": 27,
   "id": "15bd09d5-1106-4ad1-a645-dd87dc3c4974",
   "metadata": {},
   "outputs": [
    {
     "data": {
      "text/plain": [
       "Index(['zip', 'avg_wait_hours'], dtype='object')"
      ]
     },
     "execution_count": 27,
     "metadata": {},
     "output_type": "execute_result"
    }
   ],
   "source": [
    "import geopandas as gpd\n",
    "\n",
    "modzcta = gpd.read_file(\"Modified_Zip_Code_Tabulation_Areas_(MODZCTA)_20251016.geojson\")\n",
    "\n",
    "# make a copy to avoid touching the original\n",
    "zip_modzcta_expanded = modzcta.copy()\n",
    "\n",
    "# make sure label is string\n",
    "zip_modzcta_expanded['label'] = zip_modzcta_expanded['label'].astype(str)\n",
    "\n",
    "# split and explode\n",
    "zip_modzcta_expanded = (\n",
    "    zip_modzcta_expanded\n",
    "    .assign(zip=zip_modzcta_expanded['label'].str.split(','))\n",
    "    .explode('zip')\n",
    ")\n",
    "\n",
    "# clean up whitespace\n",
    "zip_modzcta_expanded['zip'] = zip_modzcta_expanded['zip'].str.strip()\n",
    "\n",
    "zip_wait_avg_hours.columns"
   ]
  },
  {
   "cell_type": "code",
   "execution_count": 28,
   "id": "c6c4215e-c515-410c-9cb6-b82a24f96b82",
   "metadata": {},
   "outputs": [],
   "source": [
    "merged_complaints = pd.merge(zip_avg_complaints, zip_modzcta_expanded, on='zip', how='inner')"
   ]
  },
  {
   "cell_type": "code",
   "execution_count": 29,
   "id": "495de494-9b40-4a19-90df-87c83cb60049",
   "metadata": {},
   "outputs": [],
   "source": [
    "merged_wait = pd.merge(zip_wait_avg_hours, zip_modzcta_expanded, on='zip', how='inner')"
   ]
  },
  {
   "cell_type": "code",
   "execution_count": 30,
   "id": "8eaba9d1-0bff-4521-ab24-91be42e78099",
   "metadata": {},
   "outputs": [],
   "source": [
    "merged_shrinkage = pd.merge(shrinkage, zip_modzcta_expanded, on='zip', how='inner')\n",
    "geo_merged_shrinkage = gpd.GeoDataFrame(merged_shrinkage, geometry='geometry')\n",
    "geo_merged_shrinkage = geo_merged_shrinkage.set_crs(epsg=4326)\n",
    "\n",
    "geo_merged_shrinkage.to_file(\"311_shrinkage_wait.geojson\", driver=\"GeoJSON\")"
   ]
  },
  {
   "cell_type": "code",
   "execution_count": 21,
   "id": "da9276e2-420a-4a6e-b580-dbaa05a8d3ca",
   "metadata": {},
   "outputs": [],
   "source": [
    "geo_merged_wait = gpd.GeoDataFrame(merged_wait, geometry='geometry')\n",
    "geo_merged_wait = geo_merged_wait.set_crs(epsg=4326)\n",
    "\n",
    "geo_merged_complaints = gpd.GeoDataFrame(merged_complaints, geometry='geometry')\n",
    "geo_merged_complaints = geo_merged_complaints.set_crs(epsg=4326)"
   ]
  },
  {
   "cell_type": "code",
   "execution_count": 22,
   "id": "fbfc6bda-2a26-460a-827b-8c56b25a81d2",
   "metadata": {},
   "outputs": [],
   "source": [
    "#geo_merged_wait.to_file(\"311_wait_times.geojson\", driver=\"GeoJSON\")\n",
    "#geo_merged_complaints.to_file(\"311_complaint_avg.geojson\", driver=\"GeoJSON\")"
   ]
  },
  {
   "cell_type": "code",
   "execution_count": 34,
   "id": "23dc9879-c816-4e44-9136-af57291ea8b6",
   "metadata": {},
   "outputs": [
    {
     "name": "stdout",
     "output_type": "stream",
     "text": [
      "                Complaint Type                    avg_wait\n",
      "220                  Trans Fat           955 days 01:36:02\n",
      "245               Window Guard    786 days 11:36:14.620000\n",
      "191                    Smoking 669 days 16:07:50.065753016\n",
      "194               Snow Removal           668 days 15:36:10\n",
      "213                  Tattooing 665 days 21:36:50.778732544\n",
      "..                         ...                         ...\n",
      "16   Bike/Roller/Skate Chronic   0 days 01:08:51.271341249\n",
      "64               Drug Activity   0 days 01:05:31.399085763\n",
      "234                    Vending   0 days 01:01:52.330061349\n",
      "103  Homeless Street Condition   0 days 01:00:21.242634797\n",
      "141   Noise - House of Worship   0 days 00:55:43.820253458\n",
      "\n",
      "[248 rows x 2 columns]\n"
     ]
    }
   ],
   "source": [
    "df = df[df['Complaint Type'] != \"ZTESTINT\"]\n",
    "\n",
    "wait_by_complaint = (\n",
    "    df.groupby('Complaint Type')['Wait']\n",
    "      .mean()\n",
    ").reset_index(name='avg_wait')\n",
    "\n",
    "print(wait_by_complaint.sort_values(by=\"avg_wait\", ascending=False))"
   ]
  },
  {
   "cell_type": "code",
   "execution_count": 42,
   "id": "9a02d74a-ea54-4f12-8153-352c101daeb5",
   "metadata": {},
   "outputs": [],
   "source": [
    "wait_by_count = (\n",
    "    df.groupby('Complaint Type')['Unique Key']\n",
    "      .nunique()\n",
    ").reset_index(name='count')\n",
    "\n",
    "longest_waits = pd.merge(wait_by_complaint, wait_by_count, on='Complaint Type', how='inner')\n",
    "longest_waits['avg_wait'] = longest_waits['avg_wait'].dt.total_seconds() / 3600\n",
    "longest_waits = longest_waits[longest_waits['count'] > 5]"
   ]
  },
  {
   "cell_type": "code",
   "execution_count": 43,
   "id": "2b5eb127-7557-4eaf-8050-40c0bfff631d",
   "metadata": {},
   "outputs": [
    {
     "name": "stdout",
     "output_type": "stream",
     "text": [
      "                          Complaint Type    avg_wait    count\n",
      "108                      Illegal Parking    2.520079  2187257\n",
      "143                  Noise - Residential    8.231319  1800990\n",
      "95                        HEAT/HOT WATER   51.855388  1188664\n",
      "144              Noise - Street/Sidewalk    2.420383   811981\n",
      "17                      Blocked Driveway    2.704733   803925\n",
      "222                 UNSANITARY CONDITION  613.519524   499764\n",
      "174  Request Large Bulky Item Collection   88.912692   404587\n",
      "4                      Abandoned Vehicle    3.291575   306817\n",
      "203                     Street Condition  110.352916   303017\n",
      "139                   Noise - Commercial    1.474432   301223\n"
     ]
    }
   ],
   "source": [
    "print(longest_waits.sort_values(by=\"count\", ascending=False).head(10))"
   ]
  },
  {
   "cell_type": "code",
   "execution_count": 37,
   "id": "37598025-3374-4863-9603-39aca0c3a0e0",
   "metadata": {},
   "outputs": [
    {
     "data": {
      "text/html": [
       "<div>\n",
       "<style scoped>\n",
       "    .dataframe tbody tr th:only-of-type {\n",
       "        vertical-align: middle;\n",
       "    }\n",
       "\n",
       "    .dataframe tbody tr th {\n",
       "        vertical-align: top;\n",
       "    }\n",
       "\n",
       "    .dataframe thead th {\n",
       "        text-align: right;\n",
       "    }\n",
       "</style>\n",
       "<table border=\"1\" class=\"dataframe\">\n",
       "  <thead>\n",
       "    <tr style=\"text-align: right;\">\n",
       "      <th></th>\n",
       "      <th>Complaint Type</th>\n",
       "      <th>avg_wait</th>\n",
       "      <th>count</th>\n",
       "    </tr>\n",
       "  </thead>\n",
       "  <tbody>\n",
       "    <tr>\n",
       "      <th>245</th>\n",
       "      <td>Window Guard</td>\n",
       "      <td>18875.604061</td>\n",
       "      <td>100</td>\n",
       "    </tr>\n",
       "    <tr>\n",
       "      <th>191</th>\n",
       "      <td>Smoking</td>\n",
       "      <td>16072.130574</td>\n",
       "      <td>13353</td>\n",
       "    </tr>\n",
       "    <tr>\n",
       "      <th>213</th>\n",
       "      <td>Tattooing</td>\n",
       "      <td>15981.614105</td>\n",
       "      <td>931</td>\n",
       "    </tr>\n",
       "    <tr>\n",
       "      <th>50</th>\n",
       "      <td>Day Care</td>\n",
       "      <td>15716.784641</td>\n",
       "      <td>7620</td>\n",
       "    </tr>\n",
       "    <tr>\n",
       "      <th>5</th>\n",
       "      <td>Adopt-A-Basket</td>\n",
       "      <td>13851.826651</td>\n",
       "      <td>651</td>\n",
       "    </tr>\n",
       "    <tr>\n",
       "      <th>147</th>\n",
       "      <td>Non-Residential Heat</td>\n",
       "      <td>13148.655184</td>\n",
       "      <td>4570</td>\n",
       "    </tr>\n",
       "    <tr>\n",
       "      <th>31</th>\n",
       "      <td>Calorie Labeling</td>\n",
       "      <td>12987.906722</td>\n",
       "      <td>45</td>\n",
       "    </tr>\n",
       "    <tr>\n",
       "      <th>137</th>\n",
       "      <td>New Tree Request</td>\n",
       "      <td>12820.743689</td>\n",
       "      <td>78364</td>\n",
       "    </tr>\n",
       "    <tr>\n",
       "      <th>133</th>\n",
       "      <td>Mobile Food Vendor</td>\n",
       "      <td>11716.443310</td>\n",
       "      <td>18818</td>\n",
       "    </tr>\n",
       "    <tr>\n",
       "      <th>84</th>\n",
       "      <td>Food Establishment</td>\n",
       "      <td>11017.228725</td>\n",
       "      <td>50306</td>\n",
       "    </tr>\n",
       "  </tbody>\n",
       "</table>\n",
       "</div>"
      ],
      "text/plain": [
       "           Complaint Type      avg_wait  count\n",
       "245          Window Guard  18875.604061    100\n",
       "191               Smoking  16072.130574  13353\n",
       "213             Tattooing  15981.614105    931\n",
       "50               Day Care  15716.784641   7620\n",
       "5          Adopt-A-Basket  13851.826651    651\n",
       "147  Non-Residential Heat  13148.655184   4570\n",
       "31       Calorie Labeling  12987.906722     45\n",
       "137      New Tree Request  12820.743689  78364\n",
       "133    Mobile Food Vendor  11716.443310  18818\n",
       "84     Food Establishment  11017.228725  50306"
      ]
     },
     "execution_count": 37,
     "metadata": {},
     "output_type": "execute_result"
    }
   ],
   "source": [
    "complaint_types = pd.merge(wait_by_complaint, wait_by_count, on='Complaint Type', how='inner')\n",
    "complaint_types['avg_wait'] = complaint_types['avg_wait'].dt.total_seconds() / 3600\n",
    "\n",
    "complaint_types.sort_values(by=\"avg_wait\", ascending=False).head(10).to_csv(\"complaint_types_by_wait.csv\")\n",
    "complaint_types.sort_values(by=\"count\", ascending=False).head(10).to_csv(\"complaint_types_by_count.csv\")\n",
    "\n",
    "complaint_types = complaint_types[complaint_types['count'] > 5]\n",
    "complaint_types.sort_values(by=\"avg_wait\", ascending=False).head(10)"
   ]
  },
  {
   "cell_type": "code",
   "execution_count": 33,
   "id": "7d4fbfe2-21f7-414d-96dd-8a1ef9c16b60",
   "metadata": {},
   "outputs": [],
   "source": [
    "agency_count = (\n",
    "    df.groupby('Agency')['Unique Key']\n",
    "    .nunique() / 1826.21\n",
    ").reset_index(name=\"count\")"
   ]
  },
  {
   "cell_type": "code",
   "execution_count": 59,
   "id": "b0a79eb4-f0ed-4fa6-b687-51957a1f4ae1",
   "metadata": {},
   "outputs": [],
   "source": [
    "agency_count = agency_count.sort_values(by=\"count\", ascending=False)\n",
    "agency_count.to_csv(\"count_by_agency.csv\")"
   ]
  },
  {
   "cell_type": "code",
   "execution_count": 35,
   "id": "94d186a4-d0e6-488b-872c-de7981ef44c9",
   "metadata": {},
   "outputs": [
    {
     "data": {
      "text/plain": [
       "(15351913, 42)"
      ]
     },
     "execution_count": 35,
     "metadata": {},
     "output_type": "execute_result"
    }
   ],
   "source": [
    "df.shape"
   ]
  },
  {
   "cell_type": "code",
   "execution_count": 36,
   "id": "a6a6ecba-1a12-4759-8fe5-24a2e01bf46c",
   "metadata": {},
   "outputs": [
    {
     "data": {
      "text/plain": [
       "580.4993355973854"
      ]
     },
     "execution_count": 36,
     "metadata": {},
     "output_type": "execute_result"
    }
   ],
   "source": [
    "zip_wait_avg_hours['avg_wait_hours'].mean()"
   ]
  },
  {
   "cell_type": "code",
   "execution_count": 38,
   "id": "4ffb5c19-2c39-4ba7-84e5-b289aab6fdf6",
   "metadata": {},
   "outputs": [
    {
     "name": "stdout",
     "output_type": "stream",
     "text": [
      "       zip  avg_wait_hours\n",
      "49   10153     4487.382807\n",
      "20   10023     3451.019555\n",
      "151  11356     2229.435177\n",
      "9    10011     2202.267732\n",
      "42   10103     2084.199921\n",
      "..     ...             ...\n",
      "45   10115      205.292034\n",
      "50   10154      172.238242\n",
      "92   10466      134.599286\n",
      "54   10169      120.215215\n",
      "61   10278      105.583352\n",
      "\n",
      "[202 rows x 2 columns]\n"
     ]
    }
   ],
   "source": [
    "print(zip_wait_avg_hours.sort_values(by='avg_wait_hours', ascending=False))"
   ]
  },
  {
   "cell_type": "code",
   "execution_count": 39,
   "id": "2b5d9e65-1b61-4aed-9f5e-6ec01d4254bc",
   "metadata": {},
   "outputs": [
    {
     "name": "stdout",
     "output_type": "stream",
     "text": [
      "       zip  avg_ccount\n",
      "92   10466  225.528827\n",
      "136  11226  133.338444\n",
      "93   10467  123.777660\n",
      "94   10468  120.620849\n",
      "83   10457  117.780540\n",
      "..     ...         ...\n",
      "165  11371    0.040521\n",
      "53   10167    0.035045\n",
      "45   10115    0.029022\n",
      "59   10177    0.027927\n",
      "48   10152    0.026832\n",
      "\n",
      "[202 rows x 2 columns]\n"
     ]
    }
   ],
   "source": [
    "print(zip_avg_complaints.sort_values(by='avg_ccount', ascending=False))"
   ]
  },
  {
   "cell_type": "code",
   "execution_count": 49,
   "id": "183341c1-00da-4e68-b29a-2dbdd6e245bd",
   "metadata": {},
   "outputs": [
    {
     "name": "stdout",
     "output_type": "stream",
     "text": [
      "      zip  avg_ccount\n",
      "49  10153    0.335668\n"
     ]
    }
   ],
   "source": [
    "print(zip_avg_complaints[zip_avg_complaints['zip'] == \"10153\"])"
   ]
  },
  {
   "cell_type": "code",
   "execution_count": 51,
   "id": "4673ddab-acb1-4641-afe3-e89f0ccf2918",
   "metadata": {},
   "outputs": [
    {
     "name": "stdout",
     "output_type": "stream",
     "text": [
      "          Unique Key        Created Date         Closed Date Agency  \\\n",
      "15992405    47924104 2020-10-19 16:31:16 2025-01-11 18:11:00  DOHMH   \n",
      "15184489    49722385 2021-02-05 11:07:19 2025-01-11 11:07:59  DOHMH   \n",
      "15053141    49869950 2021-02-25 09:04:40 2025-01-11 15:14:24  DOHMH   \n",
      "14551105    50440696 2021-05-01 08:55:30 2025-01-10 21:51:19  DOHMH   \n",
      "14431718    50568146 2021-05-15 15:43:02 2025-01-11 18:05:49  DOHMH   \n",
      "...              ...                 ...                 ...    ...   \n",
      "7249430     58600754 2023-08-23 19:23:03 2023-08-23 19:25:43   NYPD   \n",
      "14009291    51046899 2021-06-29 12:55:50 2021-06-29 12:58:24   NYPD   \n",
      "7560553     58254861 2023-07-20 15:35:17 2023-07-20 15:37:46   NYPD   \n",
      "7743719     58061261 2023-06-30 13:44:49 2023-06-30 13:46:26   NYPD   \n",
      "1225463     65154078 2025-06-03 10:29:08 2025-06-03 10:30:15   DSNY   \n",
      "\n",
      "                                      Agency Name      Complaint Type  \\\n",
      "15992405  Department of Health and Mental Hygiene  Mobile Food Vendor   \n",
      "15184489  Department of Health and Mental Hygiene  Mobile Food Vendor   \n",
      "15053141  Department of Health and Mental Hygiene  Mobile Food Vendor   \n",
      "14551105  Department of Health and Mental Hygiene  Mobile Food Vendor   \n",
      "14431718  Department of Health and Mental Hygiene  Mobile Food Vendor   \n",
      "...                                           ...                 ...   \n",
      "7249430           New York City Police Department     Illegal Parking   \n",
      "14009291          New York City Police Department     Illegal Parking   \n",
      "7560553           New York City Police Department     Illegal Parking   \n",
      "7743719           New York City Police Department         Panhandling   \n",
      "1225463                  Department of Sanitation  Vendor Enforcement   \n",
      "\n",
      "                             Descriptor       Location Type Incident Zip  \\\n",
      "15992405                     Smoke/Odor  Mobile Food Vendor        10153   \n",
      "15184489     Permit/License/Certificate  Mobile Food Vendor        10153   \n",
      "15053141     Permit/License/Certificate  Mobile Food Vendor        10153   \n",
      "14551105                      Equipment  Mobile Food Vendor        10153   \n",
      "14431718                     Smoke/Odor  Mobile Food Vendor        10153   \n",
      "...                                 ...                 ...          ...   \n",
      "7249430   Posted Parking Sign Violation     Street/Sidewalk        10153   \n",
      "14009291               Blocked Sidewalk     Street/Sidewalk        10153   \n",
      "7560553   Posted Parking Sign Violation     Street/Sidewalk        10153   \n",
      "7743719                             NaN    Store/Commercial        10153   \n",
      "1225463                     Food Vendor              Street        10153   \n",
      "\n",
      "          Incident Address  ... Taxi Company Borough Taxi Pick Up Location  \\\n",
      "15992405      767 5 AVENUE  ...                  NaN                   NaN   \n",
      "15184489      767 5 AVENUE  ...                  NaN                   NaN   \n",
      "15053141      769 5 AVENUE  ...                  NaN                   NaN   \n",
      "14551105      769 5 AVENUE  ...                  NaN                   NaN   \n",
      "14431718  767 FIFTH AVENUE  ...                  NaN                   NaN   \n",
      "...                    ...  ...                  ...                   ...   \n",
      "7249430       767 5 AVENUE  ...                  NaN                   NaN   \n",
      "14009291  767 FIFTH AVENUE  ...                  NaN                   NaN   \n",
      "7560553       767 5 AVENUE  ...                  NaN                   NaN   \n",
      "7743719       777 5 AVENUE  ...                  NaN                   NaN   \n",
      "1225463       767 5 AVENUE  ...                  NaN                   NaN   \n",
      "\n",
      "         Bridge Highway Name Bridge Highway Direction Road Ramp  \\\n",
      "15992405                 NaN                      NaN       NaN   \n",
      "15184489                 NaN                      NaN       NaN   \n",
      "15053141                 NaN                      NaN       NaN   \n",
      "14551105                 NaN                      NaN       NaN   \n",
      "14431718                 NaN                      NaN       NaN   \n",
      "...                      ...                      ...       ...   \n",
      "7249430                  NaN                      NaN       NaN   \n",
      "14009291                 NaN                      NaN       NaN   \n",
      "7560553                  NaN                      NaN       NaN   \n",
      "7743719                  NaN                      NaN       NaN   \n",
      "1225463                  NaN                      NaN       NaN   \n",
      "\n",
      "         Bridge Highway Segment   Latitude  Longitude  \\\n",
      "15992405                    NaN  40.764020 -73.973189   \n",
      "15184489                    NaN  40.764262 -73.973016   \n",
      "15053141                    NaN  40.764308 -73.972980   \n",
      "14551105                    NaN  40.764308 -73.972980   \n",
      "14431718                    NaN  40.764262 -73.973016   \n",
      "...                         ...        ...        ...   \n",
      "7249430                     NaN  40.764020 -73.973189   \n",
      "14009291                    NaN  40.764262 -73.973016   \n",
      "7560553                     NaN  40.764020 -73.973189   \n",
      "7743719                     NaN  40.764231 -73.973037   \n",
      "1225463                     NaN  40.764020 -73.973189   \n",
      "\n",
      "                                         Location               Wait  \n",
      "15992405  (40.76402013271872, -73.97318913426022) 1545 days 01:39:44  \n",
      "15184489  (40.76426162955139, -73.97301576031765) 1436 days 00:00:40  \n",
      "15053141  (40.76430828170183, -73.97297964207272) 1416 days 06:09:44  \n",
      "14551105  (40.76430828170183, -73.97297964207272) 1350 days 12:55:49  \n",
      "14431718  (40.76426162955139, -73.97301576031765) 1337 days 02:22:47  \n",
      "...                                           ...                ...  \n",
      "7249430   (40.76402013271872, -73.97318913426022)    0 days 00:02:40  \n",
      "14009291  (40.76426162955139, -73.97301576031765)    0 days 00:02:34  \n",
      "7560553   (40.76402013271872, -73.97318913426022)    0 days 00:02:29  \n",
      "7743719   (40.76423144246204, -73.97303743212922)    0 days 00:01:37  \n",
      "1225463   (40.76402013271872, -73.97318913426022)    0 days 00:01:07  \n",
      "\n",
      "[613 rows x 42 columns]\n"
     ]
    }
   ],
   "source": [
    "funny = df[df['Incident Zip'] == \"10153\"]\n",
    "print(funny.sort_values(by='Wait',ascending=False))"
   ]
  },
  {
   "cell_type": "code",
   "execution_count": 46,
   "id": "5b9c3996-80fc-4b3c-bfe5-a3f7b1989219",
   "metadata": {},
   "outputs": [
    {
     "data": {
      "text/html": [
       "<div>\n",
       "<style scoped>\n",
       "    .dataframe tbody tr th:only-of-type {\n",
       "        vertical-align: middle;\n",
       "    }\n",
       "\n",
       "    .dataframe tbody tr th {\n",
       "        vertical-align: top;\n",
       "    }\n",
       "\n",
       "    .dataframe thead th {\n",
       "        text-align: right;\n",
       "    }\n",
       "</style>\n",
       "<table border=\"1\" class=\"dataframe\">\n",
       "  <thead>\n",
       "    <tr style=\"text-align: right;\">\n",
       "      <th></th>\n",
       "      <th>Complaint Type</th>\n",
       "      <th>count</th>\n",
       "    </tr>\n",
       "  </thead>\n",
       "  <tbody>\n",
       "    <tr>\n",
       "      <th>0</th>\n",
       "      <td>Abandoned Vehicle</td>\n",
       "      <td>1</td>\n",
       "    </tr>\n",
       "    <tr>\n",
       "      <th>1</th>\n",
       "      <td>Air Quality</td>\n",
       "      <td>1</td>\n",
       "    </tr>\n",
       "    <tr>\n",
       "      <th>2</th>\n",
       "      <td>Consumer Complaint</td>\n",
       "      <td>37</td>\n",
       "    </tr>\n",
       "    <tr>\n",
       "      <th>3</th>\n",
       "      <td>Derelict Vehicles</td>\n",
       "      <td>1</td>\n",
       "    </tr>\n",
       "    <tr>\n",
       "      <th>4</th>\n",
       "      <td>Dirty Conditions</td>\n",
       "      <td>1</td>\n",
       "    </tr>\n",
       "    <tr>\n",
       "      <th>5</th>\n",
       "      <td>Elevator</td>\n",
       "      <td>1</td>\n",
       "    </tr>\n",
       "    <tr>\n",
       "      <th>6</th>\n",
       "      <td>Encampment</td>\n",
       "      <td>1</td>\n",
       "    </tr>\n",
       "    <tr>\n",
       "      <th>7</th>\n",
       "      <td>For Hire Vehicle Complaint</td>\n",
       "      <td>8</td>\n",
       "    </tr>\n",
       "    <tr>\n",
       "      <th>8</th>\n",
       "      <td>General Construction/Plumbing</td>\n",
       "      <td>2</td>\n",
       "    </tr>\n",
       "    <tr>\n",
       "      <th>9</th>\n",
       "      <td>Homeless Person Assistance</td>\n",
       "      <td>1</td>\n",
       "    </tr>\n",
       "    <tr>\n",
       "      <th>10</th>\n",
       "      <td>Illegal Parking</td>\n",
       "      <td>164</td>\n",
       "    </tr>\n",
       "    <tr>\n",
       "      <th>11</th>\n",
       "      <td>Lost Property</td>\n",
       "      <td>5</td>\n",
       "    </tr>\n",
       "    <tr>\n",
       "      <th>12</th>\n",
       "      <td>Mobile Food Vendor</td>\n",
       "      <td>311</td>\n",
       "    </tr>\n",
       "    <tr>\n",
       "      <th>13</th>\n",
       "      <td>Noise</td>\n",
       "      <td>1</td>\n",
       "    </tr>\n",
       "    <tr>\n",
       "      <th>14</th>\n",
       "      <td>Noise - Helicopter</td>\n",
       "      <td>1</td>\n",
       "    </tr>\n",
       "    <tr>\n",
       "      <th>15</th>\n",
       "      <td>Noise - Residential</td>\n",
       "      <td>1</td>\n",
       "    </tr>\n",
       "    <tr>\n",
       "      <th>16</th>\n",
       "      <td>Noise - Street/Sidewalk</td>\n",
       "      <td>3</td>\n",
       "    </tr>\n",
       "    <tr>\n",
       "      <th>17</th>\n",
       "      <td>Noise - Vehicle</td>\n",
       "      <td>2</td>\n",
       "    </tr>\n",
       "    <tr>\n",
       "      <th>18</th>\n",
       "      <td>Non-Emergency Police Matter</td>\n",
       "      <td>2</td>\n",
       "    </tr>\n",
       "    <tr>\n",
       "      <th>19</th>\n",
       "      <td>Non-Residential Heat</td>\n",
       "      <td>6</td>\n",
       "    </tr>\n",
       "    <tr>\n",
       "      <th>20</th>\n",
       "      <td>NonCompliance with Phased Reopening</td>\n",
       "      <td>6</td>\n",
       "    </tr>\n",
       "    <tr>\n",
       "      <th>21</th>\n",
       "      <td>Panhandling</td>\n",
       "      <td>8</td>\n",
       "    </tr>\n",
       "    <tr>\n",
       "      <th>22</th>\n",
       "      <td>Sewer</td>\n",
       "      <td>1</td>\n",
       "    </tr>\n",
       "    <tr>\n",
       "      <th>23</th>\n",
       "      <td>Sidewalk Condition</td>\n",
       "      <td>1</td>\n",
       "    </tr>\n",
       "    <tr>\n",
       "      <th>24</th>\n",
       "      <td>Special Projects Inspection Team (SPIT)</td>\n",
       "      <td>1</td>\n",
       "    </tr>\n",
       "    <tr>\n",
       "      <th>25</th>\n",
       "      <td>Street Condition</td>\n",
       "      <td>5</td>\n",
       "    </tr>\n",
       "    <tr>\n",
       "      <th>26</th>\n",
       "      <td>Street Sign - Damaged</td>\n",
       "      <td>1</td>\n",
       "    </tr>\n",
       "    <tr>\n",
       "      <th>27</th>\n",
       "      <td>Taxi Complaint</td>\n",
       "      <td>6</td>\n",
       "    </tr>\n",
       "    <tr>\n",
       "      <th>28</th>\n",
       "      <td>Vaccine Mandate Non-Compliance</td>\n",
       "      <td>2</td>\n",
       "    </tr>\n",
       "    <tr>\n",
       "      <th>29</th>\n",
       "      <td>Vendor Enforcement</td>\n",
       "      <td>24</td>\n",
       "    </tr>\n",
       "    <tr>\n",
       "      <th>30</th>\n",
       "      <td>Water System</td>\n",
       "      <td>8</td>\n",
       "    </tr>\n",
       "  </tbody>\n",
       "</table>\n",
       "</div>"
      ],
      "text/plain": [
       "                             Complaint Type  count\n",
       "0                         Abandoned Vehicle      1\n",
       "1                               Air Quality      1\n",
       "2                        Consumer Complaint     37\n",
       "3                         Derelict Vehicles      1\n",
       "4                          Dirty Conditions      1\n",
       "5                                  Elevator      1\n",
       "6                                Encampment      1\n",
       "7                For Hire Vehicle Complaint      8\n",
       "8             General Construction/Plumbing      2\n",
       "9                Homeless Person Assistance      1\n",
       "10                          Illegal Parking    164\n",
       "11                            Lost Property      5\n",
       "12                       Mobile Food Vendor    311\n",
       "13                                    Noise      1\n",
       "14                       Noise - Helicopter      1\n",
       "15                      Noise - Residential      1\n",
       "16                  Noise - Street/Sidewalk      3\n",
       "17                          Noise - Vehicle      2\n",
       "18              Non-Emergency Police Matter      2\n",
       "19                     Non-Residential Heat      6\n",
       "20      NonCompliance with Phased Reopening      6\n",
       "21                              Panhandling      8\n",
       "22                                    Sewer      1\n",
       "23                       Sidewalk Condition      1\n",
       "24  Special Projects Inspection Team (SPIT)      1\n",
       "25                         Street Condition      5\n",
       "26                    Street Sign - Damaged      1\n",
       "27                           Taxi Complaint      6\n",
       "28           Vaccine Mandate Non-Compliance      2\n",
       "29                       Vendor Enforcement     24\n",
       "30                             Water System      8"
      ]
     },
     "execution_count": 46,
     "metadata": {},
     "output_type": "execute_result"
    }
   ],
   "source": [
    "\n",
    "\n",
    "food_complaint = (funny.groupby('Complaint Type')['Unique Key'].nunique().reset_index(name=\"count\"))\n",
    "\n",
    "food_complaint"
   ]
  },
  {
   "cell_type": "code",
   "execution_count": 31,
   "id": "ce7719e3-f9c4-4350-af2f-6549df32097f",
   "metadata": {},
   "outputs": [],
   "source": [
    "pd.set_option('display.max_rows', 10)\n",
    "#print(funny[funny['Complaint Type'] == 'Mobile Food Vendor'][['Created Date', 'Closed Date']])\n"
   ]
  },
  {
   "cell_type": "code",
   "execution_count": null,
   "id": "a5698d68-0671-4565-b0f0-45714c7a7a5e",
   "metadata": {},
   "outputs": [],
   "source": []
  }
 ],
 "metadata": {
  "kernelspec": {
   "display_name": "Python 3 (ipykernel)",
   "language": "python",
   "name": "python3"
  },
  "language_info": {
   "codemirror_mode": {
    "name": "ipython",
    "version": 3
   },
   "file_extension": ".py",
   "mimetype": "text/x-python",
   "name": "python",
   "nbconvert_exporter": "python",
   "pygments_lexer": "ipython3",
   "version": "3.12.4"
  }
 },
 "nbformat": 4,
 "nbformat_minor": 5
}
